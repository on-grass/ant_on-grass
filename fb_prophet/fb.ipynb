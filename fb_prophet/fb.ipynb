{
 "cells": [
  {
   "cell_type": "code",
   "execution_count": 1,
   "id": "d5b5e9d5",
   "metadata": {},
   "outputs": [
    {
     "name": "stderr",
     "output_type": "stream",
     "text": [
      "C:\\Users\\user\\anaconda3\\envs\\env_3.7\\lib\\site-packages\\tqdm\\auto.py:22: TqdmWarning: IProgress not found. Please update jupyter and ipywidgets. See https://ipywidgets.readthedocs.io/en/stable/user_install.html\n",
      "  from .autonotebook import tqdm as notebook_tqdm\n",
      "Importing plotly failed. Interactive plots will not work.\n"
     ]
    }
   ],
   "source": [
    "import pandas as pd\n",
    "from datetime import datetime, timedelta\n",
    "import numpy as np\n",
    "import matplotlib.pyplot as plt\n",
    "%matplotlib inline\n",
    "from fbprophet import Prophet\n",
    "import pystan\n",
    "import geopandas as gpd"
   ]
  },
  {
   "cell_type": "code",
   "execution_count": 2,
   "id": "643b36ca",
   "metadata": {},
   "outputs": [],
   "source": [
    "year_ds=['2015','2016','2017','2018','2019','2020']"
   ]
  },
  {
   "cell_type": "code",
   "execution_count": 3,
   "id": "9df3f826",
   "metadata": {},
   "outputs": [
    {
     "name": "stderr",
     "output_type": "stream",
     "text": [
      "C:\\Users\\user\\anaconda3\\envs\\env_3.7\\lib\\site-packages\\ipykernel_launcher.py:5: FutureWarning: The default value of regex will change from True to False in a future version. In addition, single character regular expressions will *not* be treated as literal strings when regex=True.\n",
      "  \"\"\"\n"
     ]
    }
   ],
   "source": [
    "df_1=pd.read_csv('./1인/1.csv',encoding='cp949')\n",
    "\n",
    "df_1\n",
    "\n",
    "df_1['Unnamed: 0'] = df_1['Unnamed: 0'].str.replace('?', '')\n",
    "df_1.iloc[0,:] = df_1.iloc[0,:].str.replace(',', '')\n",
    "df_1[['2015','2016','2017','2018','2019','2020']]=df_1[['2015','2016','2017','2018','2019','2020']].astype(int)\n",
    "#df_1.info()"
   ]
  },
  {
   "cell_type": "code",
   "execution_count": 5,
   "id": "58812736",
   "metadata": {
    "scrolled": true
   },
   "outputs": [
    {
     "name": "stdout",
     "output_type": "stream",
     "text": [
      "<class 'pandas.core.frame.DataFrame'>\n",
      "Int64Index: 108 entries, 1 to 18\n",
      "Data columns (total 3 columns):\n",
      " #   Column  Non-Null Count  Dtype         \n",
      "---  ------  --------------  -----         \n",
      " 0   emd_nm  108 non-null    object        \n",
      " 1   y       108 non-null    int32         \n",
      " 2   ds      108 non-null    datetime64[ns]\n",
      "dtypes: datetime64[ns](1), int32(1), object(1)\n",
      "memory usage: 3.0+ KB\n"
     ]
    }
   ],
   "source": [
    "import pandas as pd\n",
    "from datetime import datetime, timedelta\n",
    "import numpy as np\n",
    "import matplotlib.pyplot as plt\n",
    "%matplotlib inline\n",
    "from fbprophet import Prophet\n",
    "import pystan\n",
    "import geopandas as gpd\n",
    "import os\n",
    "os.chdir('D:/enc_3.7/env_3.7Dir/수질오염방제/입지분석')\n",
    "import fnmatch\n",
    "\n",
    "### 데이터정제\n",
    "\n",
    "fd_list = fnmatch.filter(os.listdir('.'), '*.csv')\n",
    "water_ = pd.DataFrame()\n",
    "for i in range(len(fd_list)):\n",
    "    tmp = pd.read_csv(fd_list[i], encoding = 'cp949', usecols=[0,1], header = None).iloc[1:,:]\n",
    "    tmp[1] = tmp[1].str.replace(',', '')\n",
    "    tmp[1] = tmp[1].astype(int)\n",
    "    tmp[1]=tmp[1]*list(df_1.loc[1][1:])[i]\n",
    "    year_ds[i] = pd.to_datetime(year_ds[i])\n",
    "    tmp['ds'] = year_ds[i].replace(month=12,day=31)\n",
    "    water_ = water_.append(tmp)\n",
    "\n",
    "water_.columns = ['emd_nm','y','ds']\n",
    "#water_['y'] = water_['y'].str.replace(',', '')\n",
    "#water_['y'] = water_['y'].astype(int)\n",
    "\n",
    "emd = water_['emd_nm'].unique()\n",
    "water_.info()"
   ]
  },
  {
   "cell_type": "code",
   "execution_count": null,
   "id": "f70a7b2f",
   "metadata": {},
   "outputs": [],
   "source": []
  },
  {
   "cell_type": "markdown",
   "id": "d021b68e",
   "metadata": {},
   "source": [
    "### 이상치  필터링"
   ]
  },
  {
   "cell_type": "code",
   "execution_count": 47,
   "id": "a1c59bca",
   "metadata": {},
   "outputs": [
    {
     "name": "stderr",
     "output_type": "stream",
     "text": [
      "C:\\Users\\user\\anaconda3\\envs\\env_3.7\\lib\\site-packages\\ipykernel_launcher.py:7: FutureWarning: Dropping of nuisance columns in DataFrame reductions (with 'numeric_only=None') is deprecated; in a future version this will raise TypeError.  Select only valid columns before calling the reduction.\n",
      "  import sys\n"
     ]
    }
   ],
   "source": [
    "sem_f = water_.copy(deep= True)\n",
    "emd_cnt = sem_f.emd_nm.unique()\n",
    "\n",
    "empty_df = pd.DataFrame(columns=['emd_nm', 'sem'])\n",
    "for i in range(len(emd_cnt)):\n",
    "    sem_val = sem_f[sem_f['emd_nm'] == emd_cnt[i]]\n",
    "    empty_df = empty_df.append(pd.DataFrame([[emd_cnt[i], sem_val.sem()[0]]], columns=['emd_nm', 'sem']), ignore_index=True)\n",
    "    \n",
    "df = empty_df.sort_values('sem', ascending = False).reset_index(drop= True)"
   ]
  },
  {
   "cell_type": "code",
   "execution_count": 48,
   "id": "863abdf1",
   "metadata": {},
   "outputs": [],
   "source": [
    "df1 = df.copy(deep=True)\n",
    "sem_m =  df1['sem'].mean()\n",
    "df2 = df1[df1['sem'] > sem_m]\n",
    "error = df2['emd_nm'].unique()"
   ]
  },
  {
   "cell_type": "code",
   "execution_count": null,
   "id": "18804b28",
   "metadata": {},
   "outputs": [],
   "source": []
  },
  {
   "cell_type": "markdown",
   "id": "28947487",
   "metadata": {},
   "source": [
    "## prophet(시계열분석)"
   ]
  },
  {
   "cell_type": "code",
   "execution_count": 49,
   "id": "1fa07a9d",
   "metadata": {
    "scrolled": true
   },
   "outputs": [
    {
     "name": "stderr",
     "output_type": "stream",
     "text": [
      "INFO:fbprophet:n_changepoints greater than number of observations. Using 3.\n",
      "INFO:fbprophet:n_changepoints greater than number of observations. Using 3.\n",
      "INFO:fbprophet:n_changepoints greater than number of observations. Using 3.\n",
      "INFO:fbprophet:n_changepoints greater than number of observations. Using 3.\n",
      "INFO:fbprophet:n_changepoints greater than number of observations. Using 3.\n",
      "INFO:fbprophet:n_changepoints greater than number of observations. Using 3.\n",
      "INFO:fbprophet:n_changepoints greater than number of observations. Using 3.\n",
      "INFO:fbprophet:n_changepoints greater than number of observations. Using 3.\n",
      "INFO:fbprophet:n_changepoints greater than number of observations. Using 3.\n",
      "INFO:fbprophet:n_changepoints greater than number of observations. Using 3.\n",
      "INFO:fbprophet:n_changepoints greater than number of observations. Using 3.\n",
      "INFO:fbprophet:n_changepoints greater than number of observations. Using 3.\n",
      "INFO:fbprophet:n_changepoints greater than number of observations. Using 3.\n",
      "INFO:fbprophet:n_changepoints greater than number of observations. Using 3.\n",
      "INFO:fbprophet:n_changepoints greater than number of observations. Using 3.\n",
      "INFO:fbprophet:n_changepoints greater than number of observations. Using 3.\n",
      "INFO:fbprophet:n_changepoints greater than number of observations. Using 3.\n",
      "INFO:fbprophet:n_changepoints greater than number of observations. Using 3.\n"
     ]
    }
   ],
   "source": [
    "water_0 = water_[water_['emd_nm'] == emd[0]]\n",
    "water_0 = water_0.loc[:,['ds','y']] \n",
    "prophet = Prophet(yearly_seasonality=True,\n",
    "                  weekly_seasonality=False,\n",
    "                  daily_seasonality=False,\n",
    "                  changepoint_prior_scale=0.05)\n",
    "prophet.fit(water_0)\n",
    "future = prophet.make_future_dataframe(periods=3, freq='y')\n",
    "forecast = prophet.predict(future)\n",
    "fore = forecast.iloc[[-3,-2,-1],[0,15]]\n",
    "fore.columns = ['ds','y']\n",
    "result = fore.copy(deep=True)\n",
    "result['emd_nm'] = emd[0]\n",
    "for i in range(1, len(emd)):\n",
    "    water = water_[water_['emd_nm'] == emd[i]]\n",
    "    water = water.loc[:,['ds','y']] \n",
    "    prophet = Prophet(yearly_seasonality=True,\n",
    "                      weekly_seasonality=False,\n",
    "                      daily_seasonality=False,\n",
    "                      changepoint_prior_scale=0.05)\n",
    "    prophet.fit(water)\n",
    "    future = prophet.make_future_dataframe(periods=3, freq='y')\n",
    "    forecast = prophet.predict(future)\n",
    "    fore = forecast.iloc[[-3,-2,-1],[0,15]]\n",
    "    fore.columns = ['ds','y']\n",
    "    result2 = fore.copy(deep=True)\n",
    "    result2['emd_nm'] = emd[i]\n",
    "    result = pd.concat([result, result2], axis = 0)"
   ]
  },
  {
   "cell_type": "code",
   "execution_count": 50,
   "id": "94eb6f21",
   "metadata": {
    "scrolled": true
   },
   "outputs": [
    {
     "name": "stderr",
     "output_type": "stream",
     "text": [
      "INFO:fbprophet:n_changepoints greater than number of observations. Using 3.\n",
      "INFO:fbprophet:n_changepoints greater than number of observations. Using 3.\n",
      "INFO:fbprophet:n_changepoints greater than number of observations. Using 3.\n",
      "INFO:fbprophet:n_changepoints greater than number of observations. Using 3.\n",
      "INFO:fbprophet:n_changepoints greater than number of observations. Using 3.\n",
      "INFO:fbprophet:n_changepoints greater than number of observations. Using 3.\n"
     ]
    }
   ],
   "source": [
    "water_er_0 = water_[water_['emd_nm'] == error[0]]\n",
    "water_er_0 = water_er_0.loc[:,['ds','y']] \n",
    "prophet = Prophet(yearly_seasonality=True,\n",
    "                  weekly_seasonality=False,\n",
    "                  daily_seasonality=False,\n",
    "                  changepoint_prior_scale=0.07)\n",
    "prophet.fit(water_er_0)\n",
    "future = prophet.make_future_dataframe(periods=3, freq='y')\n",
    "forecast = prophet.predict(future)\n",
    "fore = forecast.iloc[[-3,-2,-1],[0,15]]\n",
    "fore.columns = ['ds','y']\n",
    "result3 = fore.copy(deep=True)\n",
    "result3['emd_nm'] = error[0]\n",
    "for i in range(1, len(error)):\n",
    "    water = water_[water_['emd_nm'] == error[i]]\n",
    "    water = water.loc[:,['ds','y']] \n",
    "    prophet = Prophet(yearly_seasonality=True,\n",
    "                      weekly_seasonality=False,\n",
    "                      daily_seasonality=False,\n",
    "                      changepoint_prior_scale=0.07)\n",
    "    prophet.fit(water)\n",
    "    future = prophet.make_future_dataframe(periods=3, freq='y')\n",
    "    forecast = prophet.predict(future)\n",
    "    fore = forecast.iloc[[-3,-2,-1],[0,15]]\n",
    "    fore.columns = ['ds','y']\n",
    "    result4 = fore.copy(deep=True)\n",
    "    result4['emd_nm'] = error[i]\n",
    "    result3 = pd.concat([result3, result4], axis = 0)"
   ]
  },
  {
   "cell_type": "code",
   "execution_count": 51,
   "id": "ad3b4aa1",
   "metadata": {},
   "outputs": [],
   "source": [
    "result2 = pd.merge(result, result3,  on = ['emd_nm','ds'], how = 'outer')\n",
    "result2.columns = ['ds','x','emd_nm','y']\n",
    "result2['y']=result2['y'].fillna(result2['x'])\n",
    "result2 = result2.drop('x',axis=1)\n",
    "result2['y'] = round(result2['y']) \n",
    "result2['ds']= result2.ds.dt.year\n",
    "result2 = result2.pivot(index='emd_nm', columns='ds', values='y')\n",
    "result2.columns = ['y' + result2.columns[0].astype(str), 'y' + result2.columns[1].astype(str), 'y' + result2.columns[2].astype(str)]"
   ]
  },
  {
   "cell_type": "markdown",
   "id": "b4b30e0e",
   "metadata": {},
   "source": [
    "### 수요예측결과 SHP"
   ]
  },
  {
   "cell_type": "code",
   "execution_count": 52,
   "id": "74e3c4bc",
   "metadata": {},
   "outputs": [
    {
     "name": "stderr",
     "output_type": "stream",
     "text": [
      "INFO:fiona.ogrext:Failed to auto identify EPSG: 7\n"
     ]
    },
    {
     "data": {
      "text/html": [
       "<div>\n",
       "<style scoped>\n",
       "    .dataframe tbody tr th:only-of-type {\n",
       "        vertical-align: middle;\n",
       "    }\n",
       "\n",
       "    .dataframe tbody tr th {\n",
       "        vertical-align: top;\n",
       "    }\n",
       "\n",
       "    .dataframe thead th {\n",
       "        text-align: right;\n",
       "    }\n",
       "</style>\n",
       "<table border=\"1\" class=\"dataframe\">\n",
       "  <thead>\n",
       "    <tr style=\"text-align: right;\">\n",
       "      <th></th>\n",
       "      <th>SIG_CD</th>\n",
       "      <th>SIG_ENG_NM</th>\n",
       "      <th>emd_nm</th>\n",
       "      <th>geometry</th>\n",
       "    </tr>\n",
       "  </thead>\n",
       "  <tbody>\n",
       "    <tr>\n",
       "      <th>0</th>\n",
       "      <td>11110</td>\n",
       "      <td>Jongno-gu</td>\n",
       "      <td>종로구</td>\n",
       "      <td>POLYGON ((956615.453 1953567.199, 956621.579 1...</td>\n",
       "    </tr>\n",
       "    <tr>\n",
       "      <th>1</th>\n",
       "      <td>11140</td>\n",
       "      <td>Jung-gu</td>\n",
       "      <td>중구</td>\n",
       "      <td>POLYGON ((957890.386 1952616.746, 957909.908 1...</td>\n",
       "    </tr>\n",
       "    <tr>\n",
       "      <th>2</th>\n",
       "      <td>11170</td>\n",
       "      <td>Yongsan-gu</td>\n",
       "      <td>용산구</td>\n",
       "      <td>POLYGON ((953115.761 1950834.084, 953114.206 1...</td>\n",
       "    </tr>\n",
       "    <tr>\n",
       "      <th>3</th>\n",
       "      <td>11200</td>\n",
       "      <td>Seongdong-gu</td>\n",
       "      <td>성동구</td>\n",
       "      <td>POLYGON ((959681.109 1952649.605, 959842.412 1...</td>\n",
       "    </tr>\n",
       "    <tr>\n",
       "      <th>4</th>\n",
       "      <td>11215</td>\n",
       "      <td>Gwangjin-gu</td>\n",
       "      <td>광진구</td>\n",
       "      <td>POLYGON ((964825.058 1952633.250, 964875.565 1...</td>\n",
       "    </tr>\n",
       "    <tr>\n",
       "      <th>...</th>\n",
       "      <td>...</td>\n",
       "      <td>...</td>\n",
       "      <td>...</td>\n",
       "      <td>...</td>\n",
       "    </tr>\n",
       "    <tr>\n",
       "      <th>245</th>\n",
       "      <td>48870</td>\n",
       "      <td>Hamyang-gun</td>\n",
       "      <td>함양군</td>\n",
       "      <td>POLYGON ((1017715.723 1751280.191, 1017761.619...</td>\n",
       "    </tr>\n",
       "    <tr>\n",
       "      <th>246</th>\n",
       "      <td>48880</td>\n",
       "      <td>Geochang-gun</td>\n",
       "      <td>거창군</td>\n",
       "      <td>POLYGON ((1034571.593 1767759.812, 1034559.208...</td>\n",
       "    </tr>\n",
       "    <tr>\n",
       "      <th>247</th>\n",
       "      <td>48890</td>\n",
       "      <td>Hapcheon-gun</td>\n",
       "      <td>합천군</td>\n",
       "      <td>POLYGON ((1054066.576 1759517.415, 1054101.450...</td>\n",
       "    </tr>\n",
       "    <tr>\n",
       "      <th>248</th>\n",
       "      <td>50110</td>\n",
       "      <td>Jeju-si</td>\n",
       "      <td>제주시</td>\n",
       "      <td>MULTIPOLYGON (((874410.953 1480515.382, 874408...</td>\n",
       "    </tr>\n",
       "    <tr>\n",
       "      <th>249</th>\n",
       "      <td>50130</td>\n",
       "      <td>Seogwipo-si</td>\n",
       "      <td>서귀포시</td>\n",
       "      <td>MULTIPOLYGON (((885004.560 1458756.461, 884996...</td>\n",
       "    </tr>\n",
       "  </tbody>\n",
       "</table>\n",
       "<p>250 rows × 4 columns</p>\n",
       "</div>"
      ],
      "text/plain": [
       "    SIG_CD    SIG_ENG_NM emd_nm  \\\n",
       "0    11110     Jongno-gu    종로구   \n",
       "1    11140       Jung-gu     중구   \n",
       "2    11170    Yongsan-gu    용산구   \n",
       "3    11200  Seongdong-gu    성동구   \n",
       "4    11215   Gwangjin-gu    광진구   \n",
       "..     ...           ...    ...   \n",
       "245  48870   Hamyang-gun    함양군   \n",
       "246  48880  Geochang-gun    거창군   \n",
       "247  48890  Hapcheon-gun    합천군   \n",
       "248  50110       Jeju-si    제주시   \n",
       "249  50130   Seogwipo-si   서귀포시   \n",
       "\n",
       "                                              geometry  \n",
       "0    POLYGON ((956615.453 1953567.199, 956621.579 1...  \n",
       "1    POLYGON ((957890.386 1952616.746, 957909.908 1...  \n",
       "2    POLYGON ((953115.761 1950834.084, 953114.206 1...  \n",
       "3    POLYGON ((959681.109 1952649.605, 959842.412 1...  \n",
       "4    POLYGON ((964825.058 1952633.250, 964875.565 1...  \n",
       "..                                                 ...  \n",
       "245  POLYGON ((1017715.723 1751280.191, 1017761.619...  \n",
       "246  POLYGON ((1034571.593 1767759.812, 1034559.208...  \n",
       "247  POLYGON ((1054066.576 1759517.415, 1054101.450...  \n",
       "248  MULTIPOLYGON (((874410.953 1480515.382, 874408...  \n",
       "249  MULTIPOLYGON (((885004.560 1458756.461, 884996...  \n",
       "\n",
       "[250 rows x 4 columns]"
      ]
     },
     "execution_count": 52,
     "metadata": {},
     "output_type": "execute_result"
    }
   ],
   "source": [
    "os.chdir('D:/enc_3.7/env_3.7Dir/수질오염방제/입지분석/fb_shp')\n",
    "file_path ='SIG.shp'\n",
    "emd = gpd.read_file(file_path,encoding='cp949')\n",
    "emd=emd.rename({'SIG_KOR_NM':'emd_nm'},axis=1)\n",
    "emd"
   ]
  },
  {
   "cell_type": "code",
   "execution_count": 53,
   "id": "9ed91cd8",
   "metadata": {},
   "outputs": [
    {
     "name": "stderr",
     "output_type": "stream",
     "text": [
      "WARNING:fiona._env:Value 138809178 of field y2021 of feature 0 not successfully written. Possibly due to too larger number with respect to field width\n",
      "WARNING:fiona._env:Value 139050446 of field y2022 of feature 0 not successfully written. Possibly due to too larger number with respect to field width\n",
      "WARNING:fiona._env:Value 139931906 of field y2023 of feature 0 not successfully written. Possibly due to too larger number with respect to field width\n",
      "WARNING:fiona._env:Value 162024196 of field y2021 of feature 15 not successfully written. Possibly due to too larger number with respect to field width\n",
      "WARNING:fiona._env:Value 163283545 of field y2022 of feature 15 not successfully written. Possibly due to too larger number with respect to field width\n",
      "WARNING:fiona._env:Value 166168350 of field y2023 of feature 15 not successfully written. Possibly due to too larger number with respect to field width\n"
     ]
    }
   ],
   "source": [
    "\n",
    "result_emd = pd.merge(emd, result2, on = ['emd_nm'], how = 'inner')\n",
    "result_emd.to_file(\"시계열 물 사용 예측결과.shp\", encoding = 'cp949')"
   ]
  },
  {
   "cell_type": "code",
   "execution_count": null,
   "id": "60da34b8",
   "metadata": {},
   "outputs": [],
   "source": []
  }
 ],
 "metadata": {
  "kernelspec": {
   "display_name": "env_3.7",
   "language": "python",
   "name": "env_3.7"
  },
  "language_info": {
   "codemirror_mode": {
    "name": "ipython",
    "version": 3
   },
   "file_extension": ".py",
   "mimetype": "text/x-python",
   "name": "python",
   "nbconvert_exporter": "python",
   "pygments_lexer": "ipython3",
   "version": "3.7.13"
  }
 },
 "nbformat": 4,
 "nbformat_minor": 5
}
